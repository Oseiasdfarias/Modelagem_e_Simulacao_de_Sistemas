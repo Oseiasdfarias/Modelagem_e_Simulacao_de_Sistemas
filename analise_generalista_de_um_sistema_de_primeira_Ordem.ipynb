{
  "cells": [
    {
      "cell_type": "markdown",
      "metadata": {
        "id": "view-in-github",
        "colab_type": "text"
      },
      "source": [
        "<a href=\"https://colab.research.google.com/github/Oseiasdfarias/Modelagem_e_Simulacao_de_Sistemas/blob/main/analise_generalista_de_um_sistema_de_primeira_Ordem.ipynb\" target=\"_parent\"><img src=\"https://colab.research.google.com/assets/colab-badge.svg\" alt=\"Open In Colab\"/></a>"
      ]
    },
    {
      "cell_type": "markdown",
      "id": "4147f9f5",
      "metadata": {
        "id": "4147f9f5"
      },
      "source": [
        "<h1 align=\"center\">Análise Generalista de um Sistema Dinâmico LIT de 1° Ordem <h1/>"
      ]
    },
    {
      "cell_type": "markdown",
      "id": "a348f66e",
      "metadata": {
        "id": "a348f66e"
      },
      "source": [
        "Podemos modelar um **Sistema Dinâmico LIT de 1° Ordem** através de uma **EDO**, como mostrado abaixo:\n",
        "\n",
        "<br>\n",
        "\n",
        "$$a_1\\dfrac{dy(t)}{dt} + a_0y(t) = x(t)$$\n",
        "\n",
        "<br>\n",
        "\n",
        "**Obs**: As condições iniciais do sistema são consideradas nulas.\n",
        "\n",
        "<br>\n",
        "\n",
        "Aplicando a Transformada de Laplace $\\bf{\\mathscr{L}}$, temos:\n",
        "\n",
        "<br>\n",
        "\n",
        "$$a_1Sy(s) + a_0y(s) = x(s)$$ \n",
        "\n",
        "<br>\n",
        "\n",
        "Agora podemos encontrar a **Função de Transferência** $\\bf{G(s)}$ desse sistema:\n",
        "\n",
        "<br>\n",
        "\n",
        "$$(a_1S + a_0)y(s) = x(s)$$\n",
        "\n",
        "$$G(s) = \\dfrac{y(s)}{x(s)} = \\dfrac{1}{(a_1S + a_0)}$$\n",
        "\n",
        "<br>\n",
        "\n",
        "Podemos manipular $\\bf{G(s)}$ e obter diferentes equações equivalentes, como mostrado abaixo:\n",
        "\n",
        "<br>\n",
        "\n",
        "$$G(s) = \\dfrac{y(s)}{x(s)} = \\dfrac{1}{(a_1S + a_0)} = \\dfrac{1/a_1}{(S + a_0/a_1)} = \\dfrac{1/a_0}{(a_1/a_0S + 1)} $$\n",
        "\n",
        "<br>\n",
        "\n",
        "Para generalizarmos a análise desse sistema, vamos está interesados na última forma de escrita essa equação, como segue abaixo:\n",
        "\n",
        "<br>\n",
        "\n",
        "$$G(s) = \\dfrac{y(s)}{x(s)} = \\dfrac{1/a_0}{(a_1/a_0S + 1)} $$\n",
        "\n",
        "<br>\n",
        "\n",
        "Forma Genérica:\n",
        "\n",
        "<br>\n",
        "\n",
        "$$G(s) = \\dfrac{K}{(\\tau S + 1)} $$\n",
        "\n",
        "<br>\n",
        "\n",
        "**Onde:**\n",
        "\n",
        "> + $K$ : Ganho do Sistema\n",
        "> + $\\tau$ : Constante de Temnpo"
      ]
    },
    {
      "cell_type": "markdown",
      "id": "8f0d00a4",
      "metadata": {
        "id": "8f0d00a4"
      },
      "source": [
        "<br>\n",
        "\n",
        "<h2 align=\"center\"> Analisando a Resposta ao Degrau $u(t)$ <h2/>"
      ]
    },
    {
      "cell_type": "markdown",
      "id": "107b8ad4",
      "metadata": {
        "id": "107b8ad4"
      },
      "source": [
        "Vamos analisar a resposta ao Degrau aplicado a esse sistema.\n",
        "\n",
        "A transformada de Laplace do degrau é dada por, $u(t) = \\dfrac{1}{S}$\n",
        "\n",
        "<br>\n",
        "\n",
        "Decompondo a Função abaixo em **Frações Parciais**, temos:\n",
        "\n",
        "<br>\n",
        "\n",
        "$$Y(s) = \\dfrac{K}{(\\tau S + 1)} \\cdot \\dfrac{1}{S}$$\n",
        "\n",
        "<br>\n",
        "\n",
        "$$Y(s) = \\dfrac{K}{(\\tau S + 1)} \\cdot \\dfrac{1}{S} = \\dfrac{A}{S} + \\dfrac{B}{\\tau S + 1}$$\n",
        "\n",
        "Encontrando o valor de $\\bf{A}$:\n",
        "\n",
        "<br>\n",
        "\n",
        "$$A = \\left. \\dfrac{K}{(\\tau S + 1)} \\cdot \\dfrac{1}{S} \\cdot S \\right |_{s=0} = K$$\n",
        "\n",
        "Encontrando o valor de $\\bf{B}$:\n",
        "\n",
        "<br>\n",
        "\n",
        "$$B = \\left. \\dfrac{K}{(\\tau S + 1)} \\cdot \\dfrac{1}{S} \\cdot (\\tau S + 1) \\right |_{s= - \\dfrac{1}{\\tau}} = -KJ$$\n",
        "\n",
        "<br>\n",
        "\n",
        "Logo, \n",
        "\n",
        "<br>\n",
        "\n",
        "$$Y(s) = \\dfrac{K}{S} - \\dfrac{KJ}{\\tau S + 1}$$\n",
        "\n",
        "Orgamizando, temos:\n",
        "\n",
        "<br>\n",
        "\n",
        "$$Y(s) = \\dfrac{K}{S} - \\dfrac{K}{S + \\dfrac{1}{\\tau}}$$\n",
        "\n",
        "\n",
        "Aplicando a **Transformada de Laplace Inversa**, temos:\n",
        "\n",
        "<br>\n",
        "\n",
        "$$Y(t) = \\underbrace{Ku(t)}_{\\text{Regime Permanente}} - \\underbrace{Ke^{-t/\\tau} u(t)}_{\\text{Transitório}}$$\n",
        "\n",
        "<br>\n",
        "\n",
        "$$Y(t) = K(1 - e^{-t/ \\tau)}u(t)$$\n",
        "\n",
        "\\begin{equation} Y(t) = K(\\underbrace{1}_{\\text{Modo Catac. da Entrada}} - \\underbrace{e^{-t/\\tau}}_{\\text{Modo Catac. do Sistema}})u(t)\\end{equation}\n",
        "\n",
        "\n",
        "<br>\n",
        "\n",
        "Como já vimos, $K$ é o Ganho do sistema, e $\\bf{\\tau}$ é a constante de tempo.\n",
        "\n",
        "<br>\n",
        "\n",
        "**Algumas comclusões**\n",
        "\n",
        "> + O Transitório do sistema inicia em zero e tende ao valor de $K$, por isso é $K$ é definido como o ganho do sistema.\n",
        "\n",
        "> + Quando $t = \\tau$ o transitório do sistema estará em $63,2\\%$ do valor estacionário.\n",
        "\n",
        "> + Para se alcançar o estado estacionário do sistema é preciso que $t$ seja quatro vezes o valor de $\\tau$\n",
        "\n",
        "$$t = 4\\tau$$\n",
        "\n",
        "Assim, podemos comcluir que quanto maior o valor de $\\tau$ mais rápida é a resposta do sistema"
      ]
    },
    {
      "cell_type": "markdown",
      "id": "f75566a0",
      "metadata": {
        "id": "f75566a0"
      },
      "source": [
        "<h2 align=\"center\"> Simulação do Sistema <h2/>"
      ]
    },
    {
      "cell_type": "code",
      "execution_count": null,
      "id": "e3379737",
      "metadata": {
        "id": "e3379737"
      },
      "outputs": [],
      "source": [
        "import numpy as np\n",
        "import matplotlib.pyplot as plt\n",
        "\n",
        "plt.style.use('ggplot')"
      ]
    },
    {
      "cell_type": "markdown",
      "id": "91016e16",
      "metadata": {
        "id": "91016e16"
      },
      "source": [
        "**Domínio do Tempo Y(t)**"
      ]
    },
    {
      "cell_type": "code",
      "execution_count": null,
      "id": "b52dfd06",
      "metadata": {
        "id": "b52dfd06",
        "outputId": "968e5911-64cd-4c38-9724-d35d857896ef",
        "colab": {
          "base_uri": "https://localhost:8080/",
          "height": 412
        }
      },
      "outputs": [
        {
          "output_type": "display_data",
          "data": {
            "text/plain": [
              "<Figure size 1008x432 with 1 Axes>"
            ],
            "image/png": "[encoded data removed]"
          },
          "metadata": {}
        }
      ],
      "source": [
        "K = 0.9                       # Ganho do sistema\n",
        "tau = 1.5                     # Constante de tempo do sistema\n",
        "\n",
        "# 63,2% do valor k, valor estacionário do sistema\n",
        "K_t1 = 0.632*0.9\n",
        "K_t4 = 0.993*0.9\n",
        "\n",
        "t = np.linspace(0, 10, 100)   # Valores de t para simulação\n",
        "y_t = K*(1 - np.exp(-t/tau))  # Função com entrada degrau\n",
        "\n",
        "fig, ax = plt.subplots(1, figsize=(14, 6))\n",
        "plt.plot(t, y_t)              # Plotagem do gráfico da resposta ao degrau\n",
        "\n",
        "# Textos dentro os gráficos\n",
        "ax.plot([ tau, tau], [0, K_t1],color='black', lw=0.8)\n",
        "ax.plot([ tau, 0], [K_t1, K_t1],color='black', lw=0.8)\n",
        "ax.text(0.1, K_t1+0.02, \"$63,2\\%$\",fontsize=14)\n",
        "ax.text(tau-0.1, -0.045, \"$T$\",fontsize=14)\n",
        "\n",
        "# Textos dentro os gráficos\n",
        "ax.plot([ 4*tau, 4*tau], [0, K_t4],color='black', lw=0.8)\n",
        "ax.plot([ 4*tau, 0], [K_t4, K_t4],color='black', lw=0.8)\n",
        "ax.text(0.1, K_t4+0.02, \"$99,3\\%$\",fontsize=14)\n",
        "ax.text(4*tau-0.1, -0.045, \"$4T$\",fontsize=14)\n",
        "\n",
        "# Eixos x, y\n",
        "ax.axhline(0, color='black', lw=1.2)\n",
        "ax.axvline(0, color='black', lw=1.2)\n",
        "\n",
        "plt.title(\"Resposta ao Degrau - Sistema de 1° Ordem\", fontweight=\"bold\", fontsize = 14)\n",
        "plt.xlabel(\"Tempo $(t)$\")\n",
        "plt.ylabel(\"Resposta do sistema $y(t)$\")\n",
        "plt.show()"
      ]
    },
    {
      "cell_type": "markdown",
      "id": "21244e4c",
      "metadata": {
        "id": "21244e4c"
      },
      "source": [
        "**Domínio da Frequência Y(s)**\n",
        "\n",
        "Para isso, usaremos a Biblioteca Control-python para escrever a Função de Transferência do Sistema."
      ]
    },
    {
      "cell_type": "code",
      "execution_count": null,
      "id": "84d21e9a",
      "metadata": {
        "id": "84d21e9a",
        "outputId": "f4636e4f-1988-4208-8efd-2eb4a2c3a606",
        "colab": {
          "base_uri": "https://localhost:8080/"
        }
      },
      "outputs": [
        {
          "output_type": "stream",
          "name": "stdout",
          "text": [
            "Requirement already satisfied: control in /usr/local/lib/python3.7/dist-packages (0.9.1)\n",
            "Requirement already satisfied: numpy in /usr/local/lib/python3.7/dist-packages (from control) (1.21.5)\n",
            "Requirement already satisfied: scipy in /usr/local/lib/python3.7/dist-packages (from control) (1.4.1)\n",
            "Requirement already satisfied: matplotlib in /usr/local/lib/python3.7/dist-packages (from control) (3.2.2)\n",
            "Requirement already satisfied: cycler>=0.10 in /usr/local/lib/python3.7/dist-packages (from matplotlib->control) (0.11.0)\n",
            "Requirement already satisfied: kiwisolver>=1.0.1 in /usr/local/lib/python3.7/dist-packages (from matplotlib->control) (1.4.0)\n",
            "Requirement already satisfied: pyparsing!=2.0.4,!=2.1.2,!=2.1.6,>=2.0.1 in /usr/local/lib/python3.7/dist-packages (from matplotlib->control) (3.0.7)\n",
            "Requirement already satisfied: python-dateutil>=2.1 in /usr/local/lib/python3.7/dist-packages (from matplotlib->control) (2.8.2)\n",
            "Requirement already satisfied: typing-extensions in /usr/local/lib/python3.7/dist-packages (from kiwisolver>=1.0.1->matplotlib->control) (3.10.0.2)\n",
            "Requirement already satisfied: six>=1.5 in /usr/local/lib/python3.7/dist-packages (from python-dateutil>=2.1->matplotlib->control) (1.15.0)\n"
          ]
        }
      ],
      "source": [
        "! pip install control"
      ]
    },
    {
      "cell_type": "code",
      "execution_count": null,
      "id": "2898612e",
      "metadata": {
        "id": "2898612e"
      },
      "outputs": [],
      "source": [
        "import control as clt"
      ]
    },
    {
      "cell_type": "code",
      "execution_count": null,
      "id": "d1bbc486",
      "metadata": {
        "id": "d1bbc486",
        "outputId": "b87ec2a7-a2a5-44d4-85e4-aa3166f0c84c",
        "colab": {
          "base_uri": "https://localhost:8080/",
          "height": 412
        }
      },
      "outputs": [
        {
          "output_type": "display_data",
          "data": {
            "text/plain": [
              "<Figure size 1008x432 with 1 Axes>"
            ],
            "image/png": "[encoded data removed]"
          },
          "metadata": {}
        }
      ],
      "source": [
        "K = 0.9\n",
        "tau = 1.5\n",
        "\n",
        "# 63,2% do valor k, valor estacionário do sistema\n",
        "K_t1 = 0.632*K\n",
        "K_t4 = 0.993*K\n",
        "\n",
        "\n",
        "num = [K]                             # Numerador da Função de Transferência\n",
        "den = [tau, 1]                        # Denominador da Função de Transferência\n",
        "G_s = clt.TransferFunction(num, den)  # Função de Transferência\n",
        "\n",
        "t1, y_t1 = clt.step_response(G_s)     # Simulação da resposta ao Degrau\n",
        "\n",
        "\n",
        "fig, ax = plt.subplots(1, figsize=(14, 6))\n",
        "plt.plot(t1, y_t1)              # Plotagem do gráfico da resposta ao degrau\n",
        "\n",
        "# Textos dentro os gráficos\n",
        "ax.plot([ tau, tau], [0, K_t1],color='black', lw=0.8)\n",
        "ax.plot([ tau, 0], [K_t1, K_t1],color='black', lw=0.8)\n",
        "ax.text(0.1, K_t1+0.02, \"$63,2\\%$\",fontsize=14)\n",
        "ax.text(tau-0.1, -0.045, \"$T$\",fontsize=14)\n",
        "\n",
        "# Textos dentro os gráficos\n",
        "ax.plot([ 4*tau, 4*tau], [0, K_t4],color='black', lw=0.8)\n",
        "ax.plot([ 4*tau, 0], [K_t4, K_t4],color='black', lw=0.8)\n",
        "ax.text(0.1, K_t4+0.02, \"$99,3\\%$\",fontsize=14)\n",
        "ax.text(4*tau-0.1, -0.045, \"$4T$\",fontsize=14)\n",
        "\n",
        "# Eixos x, y\n",
        "ax.axhline(0, color='black', lw=1.2)\n",
        "ax.axvline(0, color='black', lw=1.2)\n",
        "\n",
        "plt.title(\"Resposta ao Degrau - Sistema de 1° Ordem\", fontweight=\"bold\", fontsize = 14)\n",
        "plt.xlabel(\"Tempo $(t)$\")\n",
        "plt.ylabel(\"Resposta do sistema $y(t)$\")\n",
        "plt.show()"
      ]
    },
    {
      "cell_type": "code",
      "execution_count": null,
      "id": "7776fa5a",
      "metadata": {
        "id": "7776fa5a"
      },
      "outputs": [],
      "source": [
        ""
      ]
    }
  ],
  "metadata": {
    "kernelspec": {
      "display_name": "Python 3 (ipykernel)",
      "language": "python",
      "name": "python3"
    },
    "language_info": {
      "codemirror_mode": {
        "name": "ipython",
        "version": 3
      },
      "file_extension": ".py",
      "mimetype": "text/x-python",
      "name": "python",
      "nbconvert_exporter": "python",
      "pygments_lexer": "ipython3",
      "version": "3.8.10"
    },
    "colab": {
      "name": "analise_generalista_de_um_sistema_de_primeira_Ordem.ipynb",
      "provenance": [],
      "include_colab_link": true
    }
  },
  "nbformat": 4,
  "nbformat_minor": 5
}