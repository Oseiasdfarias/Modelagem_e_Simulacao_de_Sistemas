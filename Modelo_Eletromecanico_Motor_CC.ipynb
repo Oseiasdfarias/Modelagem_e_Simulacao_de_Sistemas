{
 "cells": [
  {
   "cell_type": "markdown",
   "id": "a7d63b46",
   "metadata": {},
   "source": [
    "# Modelagem Matemática de um Motor CC e Simulação da resposta ao Degrau  usando Python"
   ]
  },
  {
   "cell_type": "markdown",
   "id": "d6f5f132",
   "metadata": {},
   "source": [
    "## Modelagem Matemática Motor CC\n"
   ]
  },
  {
   "cell_type": "markdown",
   "id": "94fcfd5f",
   "metadata": {},
   "source": [
    "Controlando a **velocidade** $w(t)$ através da **tensão de Armadura** $v_a(t)$ do Motor CC"
   ]
  },
  {
   "cell_type": "markdown",
   "id": "7fb87c28",
   "metadata": {},
   "source": [
    "![Motor cc](utils/motor_cc.png)"
   ]
  },
  {
   "cell_type": "markdown",
   "id": "2c39a9d3",
   "metadata": {},
   "source": [
    "### Modelagem Matemática do Estator"
   ]
  },
  {
   "cell_type": "markdown",
   "id": "6b5c771b",
   "metadata": {},
   "source": [
    "![Motor cc](utils/estator.png)"
   ]
  },
  {
   "cell_type": "markdown",
   "id": "4cc2f655",
   "metadata": {},
   "source": [
    "Pela lei de kirchhoff das tensões, temos que:\n",
    "\n",
    "$$v_f(t) = v_R(t) + v_L(t)$$\n",
    "\n",
    "Escrevendo em Função da corrente de campo, Obtemos a seguinte equação:\n",
    "\n",
    "$$v_f(t) = R_fI_f(t) + L_f  \\dfrac {dI_f(t)}{dt}$$\n",
    "\n",
    "Aplicando a Transformada de Laplace, temos:\n",
    "\n",
    "$$\\mathscr{L}\\{v_f(t)\\}= R_f I_f(s) + L_f S I_f(s)$$\n",
    "\n",
    "Agora podemos encontrar a Função de Transferência para o modelo do Estator, como mostrado abaixo:\n",
    "\n",
    "\\begin{equation}\\label{eq1}\n",
    "G_f(s) = \\dfrac{I_f(s)}{v_f(s)} = \\dfrac{1}{L_fS + R_f}\n",
    "\\end{equation}\n",
    "\n",
    "<br>"
   ]
  },
  {
   "cell_type": "markdown",
   "id": "88507147",
   "metadata": {},
   "source": [
    "### Modelagem Matemática da Armadura"
   ]
  },
  {
   "cell_type": "markdown",
   "id": "8f20193c",
   "metadata": {},
   "source": [
    "<img src=\"utils/armadura.png\" width=\"70%\">"
   ]
  },
  {
   "cell_type": "markdown",
   "id": "7e1c9f43",
   "metadata": {},
   "source": [
    "$$v_a(t) = v_{Ra}(t) + v_{La}(t) + e(t)$$\n",
    "\n",
    "onde $e(t)$ é a **Força Contraeletromotriz** que é dada por:\n",
    "\n",
    "$$e(t) = K_ew(t)$$\n",
    "\n",
    "$$v_a(t) = R_aI_a(t) + L_a\\dfrac{i_a(t)}{dt} + K_ew(t)$$\n",
    "\n",
    "Aplicando a **Transformada de Laplace**, temos:\n",
    "\n",
    "$$v_a(s) = R_aI_a(s) + L_aI_a(s) + K_ew(s)$$\n",
    "\n",
    "$$v_a(s) - K_ew(s) = R_aI_a(s) + L_aSI_a(s)$$\n",
    "\n",
    "$$v_a(s) - K_ew(s) = (R_a+ SL_a)I_a(s)$$\n",
    "\n",
    "\n",
    "$$\\dfrac{I_a(s)}{v_a(s) - K_ew(s)} = \\dfrac{1}{(L_aS + R_a)}$$\n",
    "\n",
    "<br>\n",
    "\n",
    "### Modelagem do torque\n",
    "$$T_m(t) =K_T i_a(t)$$\n",
    "\n",
    "$$T_m(s) = K_T I_a(s)$$\n",
    "\n",
    "$$\\dfrac{T_m(s)}{I_a(s)} = K_T $$\n",
    "\n",
    "onde $K_T$ é a constante de Torque\n",
    "\n",
    "<br>"
   ]
  },
  {
   "cell_type": "markdown",
   "id": "4553fa66",
   "metadata": {},
   "source": [
    "## Modelagem da parte mecânica do Motor\n"
   ]
  },
  {
   "cell_type": "markdown",
   "id": "6a71291c",
   "metadata": {},
   "source": [
    "J = Inércia do Motor\n",
    "\n",
    "b = Coeficiente de Atrito\n",
    "\n",
    "Podemos modelar o torque o Motor através da seguinte equação\n",
    "\n",
    "$$J\\dfrac{dw(t)}{dt} = T_m(t) - bw(t)$$\n",
    "\n",
    "Aplicando a Transformada de Laplace, temos:\n",
    "\n",
    "$$JSw(s) = T_m(s) - bw(s)$$\n",
    "\n",
    "$$JSw(s) + bw(s) = T_m(s)$$\n",
    "\n",
    "$$G_m(s) = \\dfrac{w(s)}{T_m(s)} = \\dfrac{1}{JS + b}$$\n",
    "\n",
    "<br>"
   ]
  },
  {
   "cell_type": "code",
   "execution_count": null,
   "id": "d5f35d28",
   "metadata": {},
   "outputs": [],
   "source": []
  }
 ],
 "metadata": {
  "kernelspec": {
   "display_name": "Python 3 (ipykernel)",
   "language": "python",
   "name": "python3"
  },
  "language_info": {
   "codemirror_mode": {
    "name": "ipython",
    "version": 3
   },
   "file_extension": ".py",
   "mimetype": "text/x-python",
   "name": "python",
   "nbconvert_exporter": "python",
   "pygments_lexer": "ipython3",
   "version": "3.8.10"
  }
 },
 "nbformat": 4,
 "nbformat_minor": 5
}
